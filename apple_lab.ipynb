{
 "cells": [
  {
   "cell_type": "markdown",
   "source": [
    "# Explanation\n",
    "On this project, I will try to recognize apples. I am using the work entitled 'Fruit recognition from images using deep\n",
    "learning', a peper zritten by :\n",
    "Horea Muresan\n",
    "Faculty of Mathematics and Computer\n",
    "Science\n",
    "Mihail Kogˇalniceanu, 1\n",
    "Babes¸-Bolyai University\n",
    "qnd\n",
    "Mihai Oltean\n",
    "Faculty of Exact Sciences and\n",
    "Engineering\n",
    "Unirii, 15-17\n",
    "”1 Decembrie 1918” University of Alba\n",
    "Iulia\n",
    "Romania\n",
    "\n",
    "I will use their dataset which can be found : https://www.kaggle.com/datasets/moltean/fruits"
   ],
   "metadata": {
    "collapsed": false,
    "pycharm": {
     "name": "#%% md\n"
    }
   }
  },
  {
   "cell_type": "markdown",
   "source": [
    "## First, extract different datasets. Apples are divided in few dataset. I extract all datasets paths from the training folder"
   ],
   "metadata": {
    "collapsed": false,
    "pycharm": {
     "name": "#%% md\n"
    }
   }
  },
  {
   "cell_type": "code",
   "execution_count": 3,
   "outputs": [
    {
     "name": "stdout",
     "output_type": "stream",
     "text": [
      "['C:\\\\Users\\\\barbil1\\\\Documents\\\\archive\\\\fruits-360_dataset\\\\fruits-360\\\\Training\\\\Apple Braeburn', 'C:\\\\Users\\\\barbil1\\\\Documents\\\\archive\\\\fruits-360_dataset\\\\fruits-360\\\\Training\\\\Apple Crimson Snow', 'C:\\\\Users\\\\barbil1\\\\Documents\\\\archive\\\\fruits-360_dataset\\\\fruits-360\\\\Training\\\\Apple Golden 1', 'C:\\\\Users\\\\barbil1\\\\Documents\\\\archive\\\\fruits-360_dataset\\\\fruits-360\\\\Training\\\\Apple Golden 2', 'C:\\\\Users\\\\barbil1\\\\Documents\\\\archive\\\\fruits-360_dataset\\\\fruits-360\\\\Training\\\\Apple Golden 3', 'C:\\\\Users\\\\barbil1\\\\Documents\\\\archive\\\\fruits-360_dataset\\\\fruits-360\\\\Training\\\\Apple Granny Smith', 'C:\\\\Users\\\\barbil1\\\\Documents\\\\archive\\\\fruits-360_dataset\\\\fruits-360\\\\Training\\\\Apple Pink Lady', 'C:\\\\Users\\\\barbil1\\\\Documents\\\\archive\\\\fruits-360_dataset\\\\fruits-360\\\\Training\\\\Apple Red 1', 'C:\\\\Users\\\\barbil1\\\\Documents\\\\archive\\\\fruits-360_dataset\\\\fruits-360\\\\Training\\\\Apple Red 2', 'C:\\\\Users\\\\barbil1\\\\Documents\\\\archive\\\\fruits-360_dataset\\\\fruits-360\\\\Training\\\\Apple Red 3', 'C:\\\\Users\\\\barbil1\\\\Documents\\\\archive\\\\fruits-360_dataset\\\\fruits-360\\\\Training\\\\Apple Red Delicious', 'C:\\\\Users\\\\barbil1\\\\Documents\\\\archive\\\\fruits-360_dataset\\\\fruits-360\\\\Training\\\\Apple Red Yellow 1', 'C:\\\\Users\\\\barbil1\\\\Documents\\\\archive\\\\fruits-360_dataset\\\\fruits-360\\\\Training\\\\Apple Red Yellow 2']\n"
     ]
    }
   ],
   "source": [
    "# Datasets links\n",
    "training_data_set = 'C:\\\\Users\\\\barbil1\\Documents\\\\archive\\\\fruits-360_dataset\\\\fruits-360\\\\Training'\n",
    "import os\n",
    "apples_folders_paths = [ f.path for f in os.scandir(training_data_set) if f.is_dir() and f.name.startswith(\"Apple\") ]"
   ],
   "metadata": {
    "collapsed": false,
    "pycharm": {
     "name": "#%%\n"
    }
   }
  },
  {
   "cell_type": "markdown",
   "source": [
    "For the first experience I am going to use TensorFlow such as used im the paper. I found a good tutorial here: https://www.tensorflow.org/tutorials/images/classification"
   ],
   "metadata": {
    "collapsed": false,
    "pycharm": {
     "name": "#%% md\n"
    }
   }
  }
 ],
 "metadata": {
  "kernelspec": {
   "display_name": "Python 3",
   "language": "python",
   "name": "python3"
  },
  "language_info": {
   "codemirror_mode": {
    "name": "ipython",
    "version": 2
   },
   "file_extension": ".py",
   "mimetype": "text/x-python",
   "name": "python",
   "nbconvert_exporter": "python",
   "pygments_lexer": "ipython2",
   "version": "2.7.6"
  }
 },
 "nbformat": 4,
 "nbformat_minor": 0
}